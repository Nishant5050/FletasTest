{
  "nbformat": 4,
  "nbformat_minor": 0,
  "metadata": {
    "colab": {
      "provenance": [],
      "collapsed_sections": [],
      "authorship_tag": "ABX9TyOGzfaQOa5lTKMvaLw7xWPx",
      "include_colab_link": true
    },
    "kernelspec": {
      "name": "python3",
      "display_name": "Python 3"
    },
    "language_info": {
      "name": "python"
    }
  },
  "cells": [
    {
      "cell_type": "markdown",
      "metadata": {
        "id": "view-in-github",
        "colab_type": "text"
      },
      "source": [
        "<a href=\"https://colab.research.google.com/github/Nishant5050/FletasTest/blob/main/sslexpiry.ipynb\" target=\"_parent\"><img src=\"https://colab.research.google.com/assets/colab-badge.svg\" alt=\"Open In Colab\"/></a>"
      ]
    },
    {
      "cell_type": "code",
      "execution_count": 30,
      "metadata": {
        "colab": {
          "base_uri": "https://localhost:8080/"
        },
        "id": "3IifnDt5BD3C",
        "outputId": "e2d8afb0-1a5b-478e-a481-82e942b77db2"
      },
      "outputs": [
        {
          "output_type": "stream",
          "name": "stdout",
          "text": [
            "Looking in indexes: https://pypi.org/simple, https://us-python.pkg.dev/colab-wheels/public/simple/\n",
            "Requirement already satisfied: pyOpenSSL in /usr/local/lib/python3.7/dist-packages (22.0.0)\n",
            "Requirement already satisfied: cryptography>=35.0 in /usr/local/lib/python3.7/dist-packages (from pyOpenSSL) (38.0.1)\n",
            "Requirement already satisfied: cffi>=1.12 in /usr/local/lib/python3.7/dist-packages (from cryptography>=35.0->pyOpenSSL) (1.15.1)\n",
            "Requirement already satisfied: pycparser in /usr/local/lib/python3.7/dist-packages (from cffi>=1.12->cryptography>=35.0->pyOpenSSL) (2.21)\n",
            "Program to check SSL certificate validity \n",
            "\n",
            "Please provide threshold expiry date:200\n",
            "Your mail id :nishantshete5050@gmail.com\n",
            "password :··········\n",
            "Target mail id : shetenishant5050@gmail.com\n",
            "\n",
            "Checking certifcate for server www.google.com\n",
            "invalid2.invalid\n",
            "day to expire 2661\n",
            "All certificate are below the threshold date\n",
            "\n",
            "Certification check completed\n",
            "\n",
            "Checking certifcate for server www.yahoo.com\n",
            "yahoo.com\n",
            "day to expire 108\n",
            "\n",
            "Certifcate alert for1 Servers, Sending mails\n",
            "Sending mail failed\n",
            "\n",
            "Checking certifcate for server www.gmail.com\n",
            "invalid2.invalid\n",
            "day to expire 2661\n",
            "\n",
            "Certifcate alert for1 Servers, Sending mails\n",
            "Sending mail failed\n"
          ]
        }
      ],
      "source": [
        "!pip install pyOpenSSL\n",
        "import ssl\n",
        "from datetime import datetime\n",
        "import pytz\n",
        "import OpenSSL\n",
        "import socket\n",
        "import getpass\n",
        "from datetime import timedelta\n",
        "import smtplib\n",
        "from email.mime.multipart import MIMEMultipart\n",
        "from email.mime.text import MIMEText\n",
        "\n",
        "print('Program to check SSL certificate validity \\n')\n",
        "ipfile=open('/content/nish.txt')\n",
        "cur_date = datetime.utcnow()\n",
        "mailbody=''\n",
        "expcount=0\n",
        "\n",
        "##getting details\n",
        "expday=input('Please provide threshold expiry date:')\n",
        "from_mail=input('Your mail id :')\n",
        "passwd=getpass.getpass('password :' )\n",
        "to_mail=input('Target mail id : ')\n",
        "\n",
        "for ip in ipfile:\n",
        "    try:\n",
        "        host = ip.strip().split(':')[0]\n",
        "        port = ip.strip().split(':')[1]\n",
        "        print('\\nChecking certifcate for server', host)\n",
        "        ctx = OpenSSL.SSL.Context(ssl.PROTOCOL_TLSv1)\n",
        "        s = socket.socket(socket.AF_INET, socket.SOCK_STREAM)\n",
        "        s.connect((host, int(port)))\n",
        "        cnx = OpenSSL.SSL.Connection(ctx, s)\n",
        "        cnx.set_connect_state()\n",
        "        cnx.do_handshake()\n",
        "        cert = cnx.get_peer_certificate()\n",
        "        s.close()\n",
        "        server_name = cert.get_subject().commonName\n",
        "        print(server_name)\n",
        "        ##checking expiry date\n",
        "        edate = cert.get_notAfter()\n",
        "        edate = edate.decode()\n",
        "        ##converting in to system time format\n",
        "        exp_date = datetime.strptime(edate, '%Y%m%d%H%M%SZ')\n",
        "        days_to_expire = int((exp_date - cur_date).days)\n",
        "        print('day to expire', days_to_expire)\n",
        "        ##preparing mail body\n",
        "        if days_to_expire < int(expday):\n",
        "            expcount = expcount + 1\n",
        "            mailbody = mailbody + '\\n Server name =' + server_name + ', Days to expire:' + str(days_to_expire)\n",
        "    except:\n",
        "        print ('error on connection to Server,',host)\n",
        "        print (mailbody)\n",
        "\n",
        "# sending mail if any certificate going to expire within threshold days\n",
        "    if expcount >= 1:\n",
        "        try:\n",
        "            print('\\nCertifcate alert for' +str(expcount)+' Servers, Sending mails')\n",
        "            body ='Following certificate going to expire, please take action \\n'+mailbody\n",
        "            s = smtplib.SMTP(host='smtp - mail.outlook.com', port = 587)  # change here if you want to use other smtp server\n",
        "            s.starttls()\n",
        "            s.login(from_mail, passwd)\n",
        "            msg = MIMEMultipart()  # create a message\n",
        "            msg['From']=from_mail\n",
        "            msg['To']=to_mail\n",
        "            msg['Subject']='Certificate Expire alert'\n",
        "            msg.attach(MIMEText(str(body),'plain'))\n",
        "            s.send_message(msg)\n",
        "            print('Mail sent')\n",
        "            s.close()\n",
        "        except:\n",
        "            print('Sending mail failed')\n",
        "    else:\n",
        "        print('All certificate are below the threshold date')\n",
        "        print('\\nCertification check completed')"
      ]
    },
    {
      "cell_type": "code",
      "source": [],
      "metadata": {
        "id": "8BK4BhYJSnG3"
      },
      "execution_count": null,
      "outputs": []
    }
  ]
}